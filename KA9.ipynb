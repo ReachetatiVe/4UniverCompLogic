{
  "nbformat": 4,
  "nbformat_minor": 0,
  "metadata": {
    "colab": {
      "name": "KA9",
      "provenance": [],
      "collapsed_sections": [],
      "include_colab_link": true
    },
    "kernelspec": {
      "name": "python3",
      "display_name": "Python 3"
    },
    "language_info": {
      "name": "python"
    }
  },
  "cells": [
    {
      "cell_type": "markdown",
      "metadata": {
        "id": "view-in-github",
        "colab_type": "text"
      },
      "source": [
        "<a href=\"https://colab.research.google.com/github/ReachetatiVe/CompAlgebra2181Meschaninov/blob/main/KA9.ipynb\" target=\"_parent\"><img src=\"https://colab.research.google.com/assets/colab-badge.svg\" alt=\"Open In Colab\"/></a>"
      ]
    },
    {
      "cell_type": "code",
      "metadata": {
        "id": "36mDxn00rj9g"
      },
      "source": [
        "from sympy import * "
      ],
      "execution_count": null,
      "outputs": []
    },
    {
      "cell_type": "code",
      "metadata": {
        "id": "FZVABMMBrnou"
      },
      "source": [
        "a, b = symbols(\"a b\")\n",
        "x, y = symbols(\"x y\")"
      ],
      "execution_count": null,
      "outputs": []
    },
    {
      "cell_type": "code",
      "metadata": {
        "colab": {
          "base_uri": "https://localhost:8080/",
          "height": 53
        },
        "id": "z1VR0KnFr90B",
        "outputId": "685363a8-b404-4429-fb94-0139ab832a1b"
      },
      "source": [
        "#Expressions\n",
        "\n",
        "simplify(((a**2)-6*a*b+9*b*b-4)/((2-a+3*b)*(a+3*b+2)))"
      ],
      "execution_count": null,
      "outputs": [
        {
          "output_type": "execute_result",
          "data": {
            "text/latex": "$\\displaystyle \\frac{- a + 3 b - 2}{a + 3 b + 2}$",
            "text/plain": [
              "(-a + 3*b - 2)/(a + 3*b + 2)"
            ]
          },
          "metadata": {
            "tags": []
          },
          "execution_count": 8
        }
      ]
    },
    {
      "cell_type": "code",
      "metadata": {
        "colab": {
          "base_uri": "https://localhost:8080/",
          "height": 52
        },
        "id": "W7skURissuM4",
        "outputId": "c118e157-17b7-4aad-a33b-d468f2f8d981"
      },
      "source": [
        "simplify((6*a**2-a-1)/(8*a+b-2*a*b-4))"
      ],
      "execution_count": null,
      "outputs": [
        {
          "output_type": "execute_result",
          "data": {
            "text/latex": "$\\displaystyle - \\frac{3 a + 1}{b - 4}$",
            "text/plain": [
              "-(3*a + 1)/(b - 4)"
            ]
          },
          "metadata": {
            "tags": []
          },
          "execution_count": 9
        }
      ]
    },
    {
      "cell_type": "code",
      "metadata": {
        "colab": {
          "base_uri": "https://localhost:8080/",
          "height": 53
        },
        "id": "BTiAXQpYs_HG",
        "outputId": "2b3a1676-d757-460c-f427-6148418dc91e"
      },
      "source": [
        "simplify((10*a-3*b-2*a*b+15)/(4*a**2+4*a-3))"
      ],
      "execution_count": null,
      "outputs": [
        {
          "output_type": "execute_result",
          "data": {
            "text/latex": "$\\displaystyle \\frac{5 - b}{2 a - 1}$",
            "text/plain": [
              "(5 - b)/(2*a - 1)"
            ]
          },
          "metadata": {
            "tags": []
          },
          "execution_count": 10
        }
      ]
    },
    {
      "cell_type": "code",
      "metadata": {
        "colab": {
          "base_uri": "https://localhost:8080/",
          "height": 38
        },
        "id": "-h_XL-tmtLdd",
        "outputId": "04aad87e-0db1-4a24-d649-887f16742d76"
      },
      "source": [
        "simplify(((a+1)**3+(a-1)**3)/(2*a**2+6))"
      ],
      "execution_count": null,
      "outputs": [
        {
          "output_type": "execute_result",
          "data": {
            "text/latex": "$\\displaystyle a$",
            "text/plain": [
              "a"
            ]
          },
          "metadata": {
            "tags": []
          },
          "execution_count": 12
        }
      ]
    },
    {
      "cell_type": "code",
      "metadata": {
        "colab": {
          "base_uri": "https://localhost:8080/",
          "height": 37
        },
        "id": "lG9KtF1Ttloe",
        "outputId": "97e98fbe-e4d8-4e59-875d-7c9002acc5ea"
      },
      "source": [
        "simplify((6*a**2+2)/((a+1)**3-(a-1)**3))"
      ],
      "execution_count": null,
      "outputs": [
        {
          "output_type": "execute_result",
          "data": {
            "text/latex": "$\\displaystyle 1$",
            "text/plain": [
              "1"
            ]
          },
          "metadata": {
            "tags": []
          },
          "execution_count": 14
        }
      ]
    },
    {
      "cell_type": "code",
      "metadata": {
        "colab": {
          "base_uri": "https://localhost:8080/"
        },
        "id": "Yy1P-zvQuETl",
        "outputId": "38309307-99cc-4e53-ed12-5b286a530b71"
      },
      "source": [
        "#equations\n",
        "\n",
        "solve(Eq(2/(3*x+1)-x/(1-3*x)-2*x/(9*x*x-1),0))"
      ],
      "execution_count": null,
      "outputs": [
        {
          "output_type": "execute_result",
          "data": {
            "text/plain": [
              "[-2]"
            ]
          },
          "metadata": {
            "tags": []
          },
          "execution_count": 18
        }
      ]
    },
    {
      "cell_type": "code",
      "metadata": {
        "colab": {
          "base_uri": "https://localhost:8080/"
        },
        "id": "7wQZeLcNvWsh",
        "outputId": "e06b76ae-16d2-4de6-c58d-931ffd5326f6"
      },
      "source": [
        "solve(Eq(6/(1-2*x)+9/(1+2*x)-(12*x*x-15)/(4*x*x-1),0))"
      ],
      "execution_count": null,
      "outputs": [
        {
          "output_type": "execute_result",
          "data": {
            "text/plain": [
              "[0]"
            ]
          },
          "metadata": {
            "tags": []
          },
          "execution_count": 20
        }
      ]
    },
    {
      "cell_type": "code",
      "metadata": {
        "colab": {
          "base_uri": "https://localhost:8080/"
        },
        "id": "MLRs4_tYvW60",
        "outputId": "fb180cdf-0f7d-4e3d-baca-42901b9efaf9"
      },
      "source": [
        "solve(Eq(16/(x+x*x)-6/(x*x-x)-1/x,0))"
      ],
      "execution_count": null,
      "outputs": [
        {
          "output_type": "execute_result",
          "data": {
            "text/plain": [
              "[3, 7]"
            ]
          },
          "metadata": {
            "tags": []
          },
          "execution_count": 21
        }
      ]
    },
    {
      "cell_type": "code",
      "metadata": {
        "id": "CNa2QYJFvXPE",
        "colab": {
          "base_uri": "https://localhost:8080/"
        },
        "outputId": "b5e63beb-1fc7-449b-ed89-0be338877b60"
      },
      "source": [
        "solve(Eq(3/(x*x+4*x)-15/(x*x-4*x)-4/x,0))"
      ],
      "execution_count": null,
      "outputs": [
        {
          "output_type": "execute_result",
          "data": {
            "text/plain": [
              "[-2, -1]"
            ]
          },
          "metadata": {
            "tags": []
          },
          "execution_count": 9
        }
      ]
    },
    {
      "cell_type": "code",
      "metadata": {
        "colab": {
          "base_uri": "https://localhost:8080/"
        },
        "id": "SVPC37ssg65b",
        "outputId": "bb6425d8-efe2-4863-a98a-a44ae0bdb66a"
      },
      "source": [
        "solve(Eq(1/(x+6)+2/(x-2)-2/(x-6),0))"
      ],
      "execution_count": null,
      "outputs": [
        {
          "output_type": "execute_result",
          "data": {
            "text/plain": [
              "[-2, 18]"
            ]
          },
          "metadata": {
            "tags": []
          },
          "execution_count": 10
        }
      ]
    },
    {
      "cell_type": "code",
      "metadata": {
        "colab": {
          "base_uri": "https://localhost:8080/"
        },
        "id": "yWk0Vfhvg7PO",
        "outputId": "e1a5e8f6-3e2e-4fbe-b344-c0b130a8bdc4"
      },
      "source": [
        "solve(Eq(7/(x-3)+1/(x+6)-5/(x-6),0))"
      ],
      "execution_count": null,
      "outputs": [
        {
          "output_type": "execute_result",
          "data": {
            "text/plain": [
              "[-4, 12]"
            ]
          },
          "metadata": {
            "tags": []
          },
          "execution_count": 11
        }
      ]
    },
    {
      "cell_type": "code",
      "metadata": {
        "colab": {
          "base_uri": "https://localhost:8080/"
        },
        "id": "fCdQcK4Ehp5t",
        "outputId": "82924c50-3959-4a1f-b85b-7063fd0c5303"
      },
      "source": [
        "solve(Eq((4*x+8)/(x*x-4)+2*x+5,0))"
      ],
      "execution_count": null,
      "outputs": [
        {
          "output_type": "execute_result",
          "data": {
            "text/plain": [
              "[3/2]"
            ]
          },
          "metadata": {
            "tags": []
          },
          "execution_count": 12
        }
      ]
    },
    {
      "cell_type": "code",
      "metadata": {
        "colab": {
          "base_uri": "https://localhost:8080/"
        },
        "id": "7R2mKNQchqDC",
        "outputId": "2c84846e-a163-46bc-caef-3da7661670b9"
      },
      "source": [
        "solve(Eq((6*x-18)/(x*x-9)+2*x-7,0))"
      ],
      "execution_count": null,
      "outputs": [
        {
          "output_type": "execute_result",
          "data": {
            "text/plain": [
              "[-5/2]"
            ]
          },
          "metadata": {
            "tags": []
          },
          "execution_count": 13
        }
      ]
    },
    {
      "cell_type": "code",
      "metadata": {
        "colab": {
          "base_uri": "https://localhost:8080/"
        },
        "id": "SlfN1DLTh7vX",
        "outputId": "cf735905-ff6e-4576-bd34-95def6a71302"
      },
      "source": [
        "solve(Eq(x**4+x**3+x**2+3*x+2,0))"
      ],
      "execution_count": null,
      "outputs": [
        {
          "output_type": "execute_result",
          "data": {
            "text/plain": [
              "[-1, 1/2 - sqrt(7)*I/2, 1/2 + sqrt(7)*I/2]"
            ]
          },
          "metadata": {
            "tags": []
          },
          "execution_count": 16
        }
      ]
    },
    {
      "cell_type": "code",
      "metadata": {
        "colab": {
          "base_uri": "https://localhost:8080/",
          "height": 58
        },
        "id": "ZJ2flrvZiXzY",
        "outputId": "966439a9-b0b0-4e48-fde3-ce6611852030"
      },
      "source": [
        "#systems of equations\n",
        "\n",
        "nonlinsolve([Eq(3*x ** 2 - 2*x- y, 0), Eq(3*x - 2 - y, 0)], [x,y])"
      ],
      "execution_count": null,
      "outputs": [
        {
          "output_type": "execute_result",
          "data": {
            "text/latex": "$\\displaystyle \\left\\{\\left( \\frac{2}{3}, \\  0\\right), \\left( 1, \\  1\\right)\\right\\}$",
            "text/plain": [
              "FiniteSet((2/3, 0), (1, 1))"
            ]
          },
          "metadata": {
            "tags": []
          },
          "execution_count": 25
        }
      ]
    },
    {
      "cell_type": "code",
      "metadata": {
        "colab": {
          "base_uri": "https://localhost:8080/",
          "height": 58
        },
        "id": "Y5Py-kbMjwfY",
        "outputId": "5c14b278-396e-4dbe-ba7a-99bd4df3f41c"
      },
      "source": [
        "nonlinsolve([Eq(9*x ** 2 - 14*x- y, 0), Eq(9*x - 14 - y, 0)], [x,y])"
      ],
      "execution_count": null,
      "outputs": [
        {
          "output_type": "execute_result",
          "data": {
            "text/latex": "$\\displaystyle \\left\\{\\left( 1, \\  -5\\right), \\left( \\frac{14}{9}, \\  0\\right)\\right\\}$",
            "text/plain": [
              "FiniteSet((1, -5), (14/9, 0))"
            ]
          },
          "metadata": {
            "tags": []
          },
          "execution_count": 26
        }
      ]
    },
    {
      "cell_type": "code",
      "metadata": {
        "colab": {
          "base_uri": "https://localhost:8080/",
          "height": 47
        },
        "id": "8yLNwagSk3j3",
        "outputId": "f4d142c4-ec75-41cc-ab93-806b2848c105"
      },
      "source": [
        "nonlinsolve([Eq(x ** 2 - 7*y- 2, 0), Eq(x**2 + 2 - 7*y - y*y, 0)], [x,y])"
      ],
      "execution_count": null,
      "outputs": [
        {
          "output_type": "execute_result",
          "data": {
            "text/latex": "$\\displaystyle \\left\\{\\left( -4, \\  2\\right), \\left( 4, \\  2\\right), \\left( - 2 \\sqrt{3} i, \\  -2\\right), \\left( 2 \\sqrt{3} i, \\  -2\\right)\\right\\}$",
            "text/plain": [
              "FiniteSet((-4, 2), (4, 2), (-2*sqrt(3)*I, -2), (2*sqrt(3)*I, -2))"
            ]
          },
          "metadata": {
            "tags": []
          },
          "execution_count": 27
        }
      ]
    },
    {
      "cell_type": "code",
      "metadata": {
        "colab": {
          "base_uri": "https://localhost:8080/",
          "height": 47
        },
        "id": "uUgIk4Gdk3sd",
        "outputId": "57e57376-3747-474e-9557-60999605f95e"
      },
      "source": [
        "nonlinsolve([Eq(x ** 2 - 6*y-7, 0), Eq(x**2 + 2 - 6*y - y*y, 0)], [x,y])"
      ],
      "execution_count": null,
      "outputs": [
        {
          "output_type": "execute_result",
          "data": {
            "text/latex": "$\\displaystyle \\left\\{\\left( -5, \\  3\\right), \\left( 5, \\  3\\right), \\left( - \\sqrt{11} i, \\  -3\\right), \\left( \\sqrt{11} i, \\  -3\\right)\\right\\}$",
            "text/plain": [
              "FiniteSet((-5, 3), (5, 3), (sqrt(11)*I, -3), (-sqrt(11)*I, -3))"
            ]
          },
          "metadata": {
            "tags": []
          },
          "execution_count": 28
        }
      ]
    },
    {
      "cell_type": "code",
      "metadata": {
        "colab": {
          "base_uri": "https://localhost:8080/",
          "height": 58
        },
        "id": "Cjm8jaAek35u",
        "outputId": "f1f8945e-9369-4679-9c86-c16b651eb6e6"
      },
      "source": [
        "#inequalities\n",
        "\n",
        "display(solveset(Gt((3 * x - 2)* (x + 4), -11), domain=S.Reals))"
      ],
      "execution_count": null,
      "outputs": [
        {
          "output_type": "display_data",
          "data": {
            "text/latex": "$\\displaystyle \\left(-\\infty, -3\\right) \\cup \\left(- \\frac{1}{3}, \\infty\\right)$",
            "text/plain": [
              "Union(Interval.open(-oo, -3), Interval.open(-1/3, oo))"
            ]
          },
          "metadata": {
            "tags": []
          }
        }
      ]
    },
    {
      "cell_type": "code",
      "metadata": {
        "colab": {
          "base_uri": "https://localhost:8080/",
          "height": 58
        },
        "id": "i7rjBwepmYyn",
        "outputId": "6fbaaf33-0c49-4cbd-d4d5-94ffc41576d9"
      },
      "source": [
        "display(solveset(Gt((2 * x + 1)* (x - 1), 9), domain=S.Reals))"
      ],
      "execution_count": null,
      "outputs": [
        {
          "output_type": "display_data",
          "data": {
            "text/latex": "$\\displaystyle \\left(-\\infty, -2\\right) \\cup \\left(\\frac{5}{2}, \\infty\\right)$",
            "text/plain": [
              "Union(Interval.open(-oo, -2), Interval.open(5/2, oo))"
            ]
          },
          "metadata": {
            "tags": []
          }
        }
      ]
    },
    {
      "cell_type": "code",
      "metadata": {
        "colab": {
          "base_uri": "https://localhost:8080/",
          "height": 37
        },
        "id": "9kJ3-TtPmiCr",
        "outputId": "34da3daf-4f04-49d9-ea63-dfba0ec18f93"
      },
      "source": [
        "#systems of inequalities\n",
        "\n",
        "s1 = solveset(Lt(4 * x**2 + 9*x - 9, 0), domain=S.Reals)\n",
        "s2 = solveset(Lt((x+1)/2, 0), domain=S.Reals)\n",
        "Intersection(s1, s2)"
      ],
      "execution_count": null,
      "outputs": [
        {
          "output_type": "execute_result",
          "data": {
            "text/latex": "$\\displaystyle \\left(-3, -1\\right)$",
            "text/plain": [
              "Interval.open(-3, -1)"
            ]
          },
          "metadata": {
            "tags": []
          },
          "execution_count": 40
        }
      ]
    },
    {
      "cell_type": "code",
      "metadata": {
        "colab": {
          "base_uri": "https://localhost:8080/",
          "height": 58
        },
        "id": "-8cR5ux7oTqZ",
        "outputId": "fa82e175-1be3-473b-8ce3-c9a61fd450e7"
      },
      "source": [
        "s1 = solveset(Lt(6 * x**2 + 7*x - 24, 0), domain=S.Reals)\n",
        "s2 = solveset(Gt((1-x)/2, 0), domain=S.Reals)\n",
        "Intersection(s1, s2)"
      ],
      "execution_count": null,
      "outputs": [
        {
          "output_type": "execute_result",
          "data": {
            "text/latex": "$\\displaystyle \\left(- \\frac{8}{3}, 1\\right)$",
            "text/plain": [
              "Interval.open(-8/3, 1)"
            ]
          },
          "metadata": {
            "tags": []
          },
          "execution_count": 42
        }
      ]
    }
  ]
}