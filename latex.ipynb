{
  "nbformat": 4,
  "nbformat_minor": 0,
  "metadata": {
    "colab": {
      "name": "latex.ipynb",
      "provenance": [],
      "collapsed_sections": [],
      "include_colab_link": true
    },
    "kernelspec": {
      "name": "python3",
      "display_name": "Python 3"
    }
  },
  "cells": [
    {
      "cell_type": "markdown",
      "metadata": {
        "id": "view-in-github",
        "colab_type": "text"
      },
      "source": [
        "<a href=\"https://colab.research.google.com/github/ReachetatiVe/CompAlgebra2181Meschaninov/blob/main/latex.ipynb\" target=\"_parent\"><img src=\"https://colab.research.google.com/assets/colab-badge.svg\" alt=\"Open In Colab\"/></a>"
      ]
    },
    {
      "cell_type": "code",
      "metadata": {
        "id": "TBnitFrkM5go"
      },
      "source": [
        "from IPython.display import display, Math"
      ],
      "execution_count": null,
      "outputs": []
    },
    {
      "cell_type": "code",
      "metadata": {
        "id": "r_Lku_H2RBSv"
      },
      "source": [
        "def add(x, y):\r\n",
        "  return ['+', x, y]\r\n",
        "\r\n",
        "def sub(x, y):\r\n",
        "  return [\"-\", x, y]\r\n",
        "\r\n",
        "def mul(x, y):\r\n",
        "  return ['*', x, y]\r\n",
        "\r\n",
        "def div(x, y):\r\n",
        "  return [\"/\", x, y]\r\n",
        "\r\n",
        "def pow(x, y):\r\n",
        "  return [\"^\", x, y]\r\n",
        "\r\n",
        "def fsqrt(x):\r\n",
        "  return ['sqrt', x]\r\n",
        "\r\n",
        "def fln(x):\r\n",
        "  return ['ln', x]\r\n",
        "\r\n",
        "def flg(x):\r\n",
        "  return ['lg', x]\r\n",
        "\r\n",
        "def fsin(x):\r\n",
        "  return ['sin', x]\r\n",
        "\r\n",
        "def fcos(x):\r\n",
        "  return ['cos', x]\r\n",
        "\r\n",
        "def ftan(x):\r\n",
        "  return ['tan', x]\r\n",
        "\r\n",
        "def farcsin(x):\r\n",
        "  return ['arcsin', x]\r\n",
        "\r\n",
        "def farccos(x):\r\n",
        "  return ['arccos', x]\r\n",
        "\r\n",
        "def farctan(x):\r\n",
        "  return ['cos', x]\r\n",
        "\r\n",
        "def fsh(x):\r\n",
        "  return ['sh', x]\r\n",
        "\r\n",
        "def fch(x):\r\n",
        "  return ['ch', x]\r\n",
        "\r\n",
        "def fth(x):\r\n",
        "  return ['th', x]"
      ],
      "execution_count": null,
      "outputs": []
    },
    {
      "cell_type": "code",
      "metadata": {
        "id": "wYWq0kmUPVsL"
      },
      "source": [
        "def check(x):\r\n",
        "  if isinstance(x, Expression):\r\n",
        "    return x\r\n",
        "  return Expression(x)\r\n",
        "\r\n",
        "class Expression:\r\n",
        "  def __init__(self, f):\r\n",
        "    self.f = f\r\n",
        "\r\n",
        "  def __add__(self, x):\r\n",
        "    x = check(x)\r\n",
        "    return Expression(add(self.f, x.f))\r\n",
        "\r\n",
        "  def __sub__(self, x):\r\n",
        "    x = check(x)\r\n",
        "    return Expression(sub(self.f, x.f))\r\n",
        "\r\n",
        "  def __mul__(self, x):\r\n",
        "    x = check(x)\r\n",
        "    return Expression(mul(self.f, x.f))\r\n",
        "\r\n",
        "  def __pow__(self, x):\r\n",
        "    x = check(x)\r\n",
        "    return Expression(pow(self.f, x.f))\r\n",
        "\r\n",
        "  def __radd__(self, x):\r\n",
        "    x = check(x)\r\n",
        "    return Expression(add(x.f, self.f))\r\n",
        "\r\n",
        "  def __rsub__(self, x):\r\n",
        "    x = check(x)\r\n",
        "    return Expression(sub(x.f, self.f))\r\n",
        "\r\n",
        "  def __rmul__(self, x):\r\n",
        "    x = check(x)\r\n",
        "    return Expression(mul(x.f, self.f))\r\n",
        "\r\n",
        "  def __rtruediv__(self, x):\r\n",
        "    x = check(x)\r\n",
        "    return Expression(div(x.f, self.f))\r\n",
        "    \r\n",
        "  def __rpow__(self, x):\r\n",
        "    x = check(x)\r\n",
        "    return Expression(pow(x.f, self.f))\r\n",
        "\r\n",
        "  def subs(self, var, val):\r\n",
        "    return Expression(substitute(self.f, var, val))\r\n",
        "\r\n",
        "  def evalf(self):\r\n",
        "    return evaluate(self.f)\r\n",
        "\r\n",
        "  def show(self):\r\n",
        "    display(Math(toLatex(self.f)))\r\n",
        "\r\n",
        "  def __str__(self):\r\n",
        "    return toLatex(self.f)"
      ],
      "execution_count": null,
      "outputs": []
    },
    {
      "cell_type": "code",
      "metadata": {
        "id": "s3ejG8WrX5Iv"
      },
      "source": [
        "def sqrt(x):\r\n",
        "  x = check(x)\r\n",
        "  t = x.f\r\n",
        "  r = fsqrt(t)\r\n",
        "  return Expression(r)\r\n",
        "\r\n",
        "def ln(x):\r\n",
        "  return Expression(fln(check(x).f))\r\n",
        "\r\n",
        "def lg(x):\r\n",
        "  return Expression(flg(check(x).f))\r\n",
        "\r\n",
        "def sin(x):\r\n",
        "  return Expression(fsin(check(x).f))\r\n",
        "\r\n",
        "def cos(x):\r\n",
        "  return Expression(fcos(check(x).f))\r\n",
        "\r\n",
        "def tan(x):\r\n",
        "  return Expression(ftan(check(x).f))\r\n",
        "\r\n",
        "def arcsin(x):\r\n",
        "  return Expression(farcsin(check(x).f))\r\n",
        "\r\n",
        "def arccos(x):\r\n",
        "  return Expression(farccos(check(x).f))\r\n",
        "\r\n",
        "def arctan(x):\r\n",
        "  return Expression(farctan(check(x).f))\r\n",
        "\r\n",
        "def sh(x):\r\n",
        "  return Expression(fsh(check(x).f))\r\n",
        "\r\n",
        "def ch(x):\r\n",
        "  return Expression(fch(check(x).f))\r\n",
        "\r\n",
        "def th(x):\r\n",
        "  return Expression(fth(check(x).f))"
      ],
      "execution_count": null,
      "outputs": []
    },
    {
      "cell_type": "code",
      "metadata": {
        "id": "hPBIpRa8dwWE"
      },
      "source": [
        "def evaluate(f):\r\n",
        "  if isinstance(f, (int, float)):\r\n",
        "    return f\r\n",
        "  elif isinstance(f, list):\r\n",
        "    if f[0] == \"+\": \r\n",
        "      return evaluate(f[1]) + evaluate(f[2])\r\n",
        "    elif f[0] == \"*\":\r\n",
        "      return evaluate(f[1]) * evaluate(f[2])\r\n",
        "    elif f[0] == \"sqrt\":\r\n",
        "      return math.sqrt(evaluate(f[1]))\r\n",
        "    elif f[0] == \"sin\":\r\n",
        "      return math.sin(evaluate(f[1]))\r\n",
        "    elif f[0] == \"cos\":\r\n",
        "      return math.cos(evaluate(f[1]))\r\n",
        "  return None"
      ],
      "execution_count": null,
      "outputs": []
    },
    {
      "cell_type": "code",
      "metadata": {
        "id": "ewSBiIb1JJVy"
      },
      "source": [
        "def substitute(f, var, val):\r\n",
        "  val = check(val).f\r\n",
        "  if f == var:\r\n",
        "    return val\r\n",
        "  elif isinstance(f, list):\r\n",
        "    y = [f[0]]\r\n",
        "    for i in range(1, len(f)):\r\n",
        "      t = substitute(f[i], var, val)\r\n",
        "      y.append(t)\r\n",
        "    return y\r\n",
        "  else:\r\n",
        "    return f"
      ],
      "execution_count": null,
      "outputs": []
    },
    {
      "cell_type": "code",
      "metadata": {
        "id": "7Y8qjRkJJw8v"
      },
      "source": [
        "def toLatex(x):\r\n",
        "  if isinstance(x, (int, float)):\r\n",
        "    return str(x)\r\n",
        "  if isinstance(x, str):\r\n",
        "    return x\r\n",
        "  if isinstance(x, list):\r\n",
        "    if x[0] == \"+\":\r\n",
        "      return toLatex(x[1]) + \"+\" + toLatex(x[2])\r\n",
        "\r\n",
        "    if x[0] == \"-\":\r\n",
        "      return toLatex(x[1]) + \"-\" + toLatex(x[2])\r\n",
        "\r\n",
        "    if x[0] == \"*\":\r\n",
        "      left = toLatex(x[1])\r\n",
        "      if isinstance(x[1], list) and x[1][0] == \"+\":\r\n",
        "        left = \"\\\\left(\" + left + \"\\\\right)\"\r\n",
        "      right = toLatex(x[2])\r\n",
        "      if isinstance(x[2], list) and x[2][0] == \"+\":\r\n",
        "        right = \"\\\\left(\" + right + \"\\\\right)\"\r\n",
        "      return left + \"\\\\cdot \" + right\r\n",
        "\r\n",
        "    if x[0] == \"/\":\r\n",
        "      return \"\\\\dfrac{\" + toLatex(x[1]) + \"}{\" + toLatex(x[2]) + \"}\"\r\n",
        "\r\n",
        "    if x[0] == \"^\":\r\n",
        "      left = toLatex(x[1])\r\n",
        "      if isinstance(x[1], list):\r\n",
        "        left = \"\\\\left(\" + left + \"\\\\right)\"\r\n",
        "      right = toLatex(x[2])\r\n",
        "      return \"{\" + left + \"}^{\" + right + \"}\"\r\n",
        "    \r\n",
        "    if x[0] == \"sqrt\":\r\n",
        "      a = toLatex(x[1])\r\n",
        "      return \"\\\\sqrt{\" + a + \"}\"\r\n",
        "\r\n",
        "    if x[0] == \"ln\":\r\n",
        "      a = toLatex(x[1])\r\n",
        "      if isinstance(x[1], list):\r\n",
        "        a = \"\\\\left(\" + a + \"\\\\right)\"\r\n",
        "      return \"\\\\ln{\" + a + \"}\"\r\n",
        "\r\n",
        "    if x[0] == \"lg\":\r\n",
        "      a = toLatex(x[1])\r\n",
        "      if isinstance(x[1], list):\r\n",
        "        a = \"\\\\left(\" + a + \"\\\\right)\"\r\n",
        "      return \"\\\\lg{\" + a + \"}\"\r\n",
        "\r\n",
        "    if x[0] == \"sin\":\r\n",
        "      a = toLatex(x[1])\r\n",
        "      if isinstance(x[1], list):\r\n",
        "        a = \"\\\\left(\" + a + \"\\\\right)\"\r\n",
        "      return \"\\\\sin{\" + a + \"}\"\r\n",
        "\r\n",
        "    if x[0] == \"cos\":\r\n",
        "      a = toLatex(x[1])\r\n",
        "      if isinstance(x[1], list):\r\n",
        "        a = \"\\\\left(\" + a + \"\\\\right)\"\r\n",
        "      return \"\\\\cos{\" + a + \"}\"\r\n",
        "\r\n",
        "    if x[0] == \"tan\":\r\n",
        "      a = toLatex(x[1])\r\n",
        "      if isinstance(x[1], list):\r\n",
        "        a = \"\\\\left(\" + a + \"\\\\right)\"\r\n",
        "      return \"\\\\tan{\" + a + \"}\"\r\n",
        "\r\n",
        "    if x[0] == \"arcsin\":\r\n",
        "      a = toLatex(x[1])\r\n",
        "      if isinstance(x[1], list):\r\n",
        "        a = \"\\\\left(\" + a + \"\\\\right)\"\r\n",
        "      return \"\\\\arcsin{\" + a + \"}\"\r\n",
        "\r\n",
        "    if x[0] == \"arccos\":\r\n",
        "      a = toLatex(x[1])\r\n",
        "      if isinstance(x[1], list):\r\n",
        "        a = \"\\\\left(\" + a + \"\\\\right)\"\r\n",
        "      return \"\\\\arccos{\" + a + \"}\"\r\n",
        "\r\n",
        "    if x[0] == \"arctan\":\r\n",
        "      a = toLatex(x[1])\r\n",
        "      if isinstance(x[1], list):\r\n",
        "        a = \"\\\\left(\" + a + \"\\\\right)\"\r\n",
        "      return \"\\\\arctan{\" + a + \"}\"\r\n",
        "\r\n",
        "    if x[0] == \"sh\":\r\n",
        "      a = toLatex(x[1])\r\n",
        "      if isinstance(x[1], list):\r\n",
        "        a = \"\\\\left(\" + a + \"\\\\right)\"\r\n",
        "      return \"\\\\sh{\" + a + \"}\"\r\n",
        "\r\n",
        "    if x[0] == \"ch\":\r\n",
        "      a = toLatex(x[1])\r\n",
        "      if isinstance(x[1], list):\r\n",
        "        a = \"\\\\left(\" + a + \"\\\\right)\"\r\n",
        "      return \"\\\\ch{\" + a + \"}\"\r\n",
        "\r\n",
        "    if x[0] == \"th\":\r\n",
        "      a = toLatex(x[1])\r\n",
        "      if isinstance(x[1], list):\r\n",
        "        a = \"\\\\left(\" + a + \"\\\\right)\"\r\n",
        "      return \"\\\\th{\" + a + \"}\""
      ],
      "execution_count": null,
      "outputs": []
    },
    {
      "cell_type": "code",
      "metadata": {
        "colab": {
          "base_uri": "https://localhost:8080/"
        },
        "id": "_lAaG26fVhiX",
        "outputId": "5b592255-a693-42ba-cc2d-273cbace6bcf"
      },
      "source": [
        "x = Expression('x')\r\n",
        "y = Expression('y')\r\n",
        "z = x + 2 * ln(y) + sin(5) - 2\r\n",
        "z.f"
      ],
      "execution_count": null,
      "outputs": [
        {
          "output_type": "execute_result",
          "data": {
            "text/plain": [
              "['-', ['+', ['+', 'x', ['*', 2, ['ln', 'y']]], ['sin', 5]], 2]"
            ]
          },
          "metadata": {
            "tags": []
          },
          "execution_count": 23
        }
      ]
    },
    {
      "cell_type": "code",
      "metadata": {
        "id": "C8m5IQEVJceS",
        "colab": {
          "base_uri": "https://localhost:8080/",
          "height": 38
        },
        "outputId": "0ef85fdd-9889-49ba-edd6-a3fa69632cd8"
      },
      "source": [
        "y.show()"
      ],
      "execution_count": null,
      "outputs": [
        {
          "output_type": "display_data",
          "data": {
            "text/latex": "$$y$$",
            "text/plain": [
              "<IPython.core.display.Math object>"
            ]
          },
          "metadata": {
            "tags": []
          }
        }
      ]
    }
  ]
}