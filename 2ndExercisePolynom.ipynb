{
  "nbformat": 4,
  "nbformat_minor": 0,
  "metadata": {
    "colab": {
      "name": "Untitled1.ipynb",
      "provenance": [],
      "collapsed_sections": [],
      "authorship_tag": "ABX9TyOd7omZBC1QFFUqwJNaEIED",
      "include_colab_link": true
    },
    "kernelspec": {
      "name": "python3",
      "display_name": "Python 3"
    }
  },
  "cells": [
    {
      "cell_type": "markdown",
      "metadata": {
        "id": "view-in-github",
        "colab_type": "text"
      },
      "source": [
        "<a href=\"https://colab.research.google.com/github/ReachetatiVe/CompAlgebra2181Meschaninov/blob/main/2ndExercisePolynom.ipynb\" target=\"_parent\"><img src=\"https://colab.research.google.com/assets/colab-badge.svg\" alt=\"Open In Colab\"/></a>"
      ]
    },
    {
      "cell_type": "code",
      "metadata": {
        "id": "ujnJitDrKAV-"
      },
      "source": [
        "import matplotlib\r\n",
        "import matplotlib.pyplot as plt\r\n",
        "\r\n",
        "class Polynomial:\r\n",
        "    coefArray = []\r\n",
        "\r\n",
        "    def __init__(self, *coefficient):\r\n",
        "        self.coefArray = coefficient\r\n",
        "\r\n",
        "    def __str__(self):\r\n",
        "        outPutString = \"\"\r\n",
        "        for i in range(len(self.coefArray)-1, -1, -1):\r\n",
        "          outPutString += str(self.coefArray[i])\r\n",
        "          if i>0:\r\n",
        "            outPutString += 'x'\r\n",
        "          if i>1:\r\n",
        "            outPutString += '^' + str(i)\r\n",
        "          if i >0:\r\n",
        "            outPutString+='+'\r\n",
        "        return outPutString\r\n",
        "\r\n",
        "    def __add__(self, polynom):\r\n",
        "        tmpArray = []\r\n",
        "        for i in range(min(len(self.coefArray)-1, len(polynom.coefArray)-1), -1, -1):\r\n",
        "            tmpArray[i] = self.coefArray[i] + polynom.coefArray[i]\r\n",
        "        return Polynomial(tmpArray)\r\n",
        "\r\n",
        "    def __sub__(self, polynom):\r\n",
        "        tmpArray = []\r\n",
        "        for i in range(min(len(self.coefArray)-1, len(polynom.coefArray)-1), -1, -1):\r\n",
        "            tmpArray[i] = self.coefArray[i] - polynom.coefArray[i]\r\n",
        "        return Polynomial(tmpArray)\r\n",
        "\r\n",
        "    def evalf(self, x):\r\n",
        "        result = 0\r\n",
        "        for i in range(len(self.coefArray)-1, -1, -1):\r\n",
        "            result += self.coefArray[i] * x ^ i\r\n",
        "        return result\r\n",
        "\r\n",
        "    def toLatex(self):\r\n",
        "        return str(self)\r\n",
        "\r\n",
        "    def show(self):\r\n",
        "        print(str(self))\r\n",
        "\r\n",
        "    def diff(self):\r\n",
        "        tmpArray = []\r\n",
        "        for i in range(1, len(self.coefArray)):\r\n",
        "            tmpArray[i-1] = self.coefArray[i] * i\r\n",
        "        return Polynomial(tmpArray)\r\n",
        "\r\n",
        "    def plot(self, left, right):\r\n",
        "        X, Y = [], []\r\n",
        "        for i in range(left, right+1):\r\n",
        "            X.append(i)\r\n",
        "            tmpY = 0\r\n",
        "            for j in range(0, len(self.coefArray)):\r\n",
        "                tmpY += self.coefArray[j]*(i ^ j)\r\n",
        "            Y.append(tmpY)\r\n",
        "\r\n",
        "        fig, ax = plt.subplots(figsize=(12, 9))\r\n",
        "        ax.plot(X, Y, color=\"red\", lw=5)\r\n",
        "        plt.show()"
      ],
      "execution_count": 14,
      "outputs": []
    },
    {
      "cell_type": "code",
      "metadata": {
        "colab": {
          "base_uri": "https://localhost:8080/",
          "height": 565
        },
        "id": "bO9RKag4KD74",
        "outputId": "60c34e97-4632-4b3f-a2f3-a408dd39aca5"
      },
      "source": [
        "a = Polynomial(3,4,12,12,344)\r\n",
        "a.show()\r\n",
        "a.plot(-4000,4000)"
      ],
      "execution_count": 21,
      "outputs": [
        {
          "output_type": "stream",
          "text": [
            "344x^4+12x^3+12x^2+4x+3\n"
          ],
          "name": "stdout"
        },
        {
          "output_type": "display_data",
          "data": {
            "image/png": "[encoded data removed]",
            "text/plain": [
              "<Figure size 864x648 with 1 Axes>"
            ]
          },
          "metadata": {
            "tags": [],
            "needs_background": "light"
          }
        }
      ]
    }
  ]
}