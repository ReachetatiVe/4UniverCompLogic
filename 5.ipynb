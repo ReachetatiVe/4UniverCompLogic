{
  "nbformat": 4,
  "nbformat_minor": 0,
  "metadata": {
    "colab": {
      "name": "5.ipynb",
      "provenance": [],
      "include_colab_link": true
    },
    "kernelspec": {
      "name": "python3",
      "display_name": "Python 3"
    },
    "language_info": {
      "name": "python"
    }
  },
  "cells": [
    {
      "cell_type": "markdown",
      "metadata": {
        "id": "view-in-github",
        "colab_type": "text"
      },
      "source": [
        "<a href=\"https://colab.research.google.com/github/ReachetatiVe/CompAlgebra2181Meschaninov/blob/main/5.ipynb\" target=\"_parent\"><img src=\"https://colab.research.google.com/assets/colab-badge.svg\" alt=\"Open In Colab\"/></a>"
      ]
    },
    {
      "cell_type": "code",
      "metadata": {
        "colab": {
          "base_uri": "https://localhost:8080/",
          "height": 265
        },
        "id": "hPfaeRYGenAM",
        "outputId": "fb66b4dc-ffdc-4866-aafc-1a5785eb7a92"
      },
      "source": [
        "import random\n",
        "import math\n",
        "import pylab as pl\n",
        "import numpy as np\n",
        "from matplotlib.colors import ListedColormap\n",
        "\n",
        "def generateData (numberOfClassEl, numberOfClasses):\n",
        "    data = []\n",
        "    for classNum in range(numberOfClasses):\n",
        "        #Choose random center of 2-dimensional gaussian\n",
        "        centerX, centerY = random.random()*5.0, random.random()*5.0\n",
        "        #Choose numberOfClassEl random nodes with RMS=0.5\n",
        "        for rowNum in range(numberOfClassEl):\n",
        "            data.append([ [random.gauss(centerX,0.5), random.gauss(centerY,0.5)], classNum])\n",
        "    return data\n",
        "\n",
        "def showData (nClasses, nItemsInClass):\n",
        "    trainData      = generateData (nItemsInClass, nClasses)\n",
        "    classColormap  = ListedColormap(['#FF0000', '#00FF00', '#FFFFFF'])\n",
        "    pl.scatter([trainData[i][0][0] for i in range(len(trainData))],\n",
        "               [trainData[i][0][1] for i in range(len(trainData))],\n",
        "               c=[trainData[i][1] for i in range(len(trainData))],\n",
        "               cmap=classColormap)\n",
        "    pl.show()   \n",
        "showData (3, 40)\n",
        "\n",
        "def splitTrainTest (data, testPercent):\n",
        "    trainData = []\n",
        "    testData  = []\n",
        "    for row in data:\n",
        "        if random.random() < testPercent:\n",
        "            testData.append(row)\n",
        "        else:\n",
        "            trainData.append(row)\n",
        "    return trainData, testData\t    \n",
        "\n",
        "def classifyKNN (trainData, testData, k, numberOfClasses):\n",
        "    #Euclidean distance between 2-dimensional point\n",
        "    def dist (a, b):\n",
        "        return math.sqrt((a[0] - b[0])**2 + (a[1] - b[1])**2)\n",
        "    testLabels = []\t\n",
        "    for testPoint in testData:\n",
        "        #Claculate distances between test point and all of the train points\n",
        "        testDist = [ [dist(testPoint, trainData[i][0]), trainData[i][1]] for i in range(len(trainData))]\n",
        "        #How many points of each class among nearest K\n",
        "        stat = [0 for i in range(numberOfClasses)]\n",
        "        for d in sorted(testDist)[0:k]:\n",
        "            stat[d[1]] += 1\n",
        "        #Assign a class with the most number of occurences among K nearest neighbours\n",
        "        testLabels.append( sorted(zip(stat, range(numberOfClasses)), reverse=True)[0][1] )\n",
        "    return testLabels\n",
        "\n",
        "def calculateAccuracy (nClasses, nItemsInClass, k, testPercent):\n",
        "    data = generateData (nItemsInClass, nClasses)\n",
        "    trainData, testDataWithLabels = splitTrainTest (data, testPercent)\n",
        "    testData = [testDataWithLabels[i][0] for i in range(len(testDataWithLabels))]\n",
        "    testDataLabels = classifyKNN (trainData, testData, k, nClasses)\n",
        "    print (\"Accuracy: \", sum([int(testDataLabels[i]==testDataWithLabels[i][1]) for i in range(len(testDataWithLabels))]) / float(len(testDataWithLabels)))\n",
        "\n",
        "def showDataOnMesh (nClasses, nItemsInClass, k):\n",
        "    #Generate a mesh of nodes that covers all train cases\n",
        "    def generateTestMesh (trainData):\n",
        "        x_min = min( [trainData[i][0][0] for i in range(len(trainData))] ) - 1.0\n",
        "        x_max = max( [trainData[i][0][0] for i in range(len(trainData))] ) + 1.0\n",
        "        y_min = min( [trainData[i][0][1] for i in range(len(trainData))] ) - 1.0\n",
        "        y_max = max( [trainData[i][0][1] for i in range(len(trainData))] ) + 1.0\n",
        "        h = 0.05\n",
        "        testX, testY = np.meshgrid(np.arange(x_min, x_max, h),\n",
        "                                   np.arange(y_min, y_max, h))\n",
        "        return [testX, testY]\n",
        "    trainData      = generateData (nItemsInClass, nClasses)\n",
        "    testMesh       = generateTestMesh (trainData)\t\n",
        "    testMeshLabels = classifyKNN (trainData, zip(testMesh[0].ravel(), testMesh[1].ravel()), k, nClasses)\n",
        "    classColormap  = ListedColormap(['#FF0000', '#00FF00', '#FFFFFF'])\n",
        "    testColormap   = ListedColormap(['#FFAAAA', '#AAFFAA', '#AAAAAA'])\n",
        "    pl.pcolormesh(testMesh[0],\n",
        "                  testMesh[1],\n",
        "                  np.asarray(testMeshLabels).reshape(testMesh[0].shape),\n",
        "                  cmap=testColormap)\n",
        "    pl.scatter([trainData[i][0][0] for i in range(len(trainData))],\n",
        "               [trainData[i][0][1] for i in range(len(trainData))],\n",
        "               c=[trainData[i][1] for i in range(len(trainData))],\n",
        "               cmap=classColormap)\n",
        "    pl.show()\n",
        "\n",
        "\n"
      ],
      "execution_count": null,
      "outputs": [
        {
          "output_type": "display_data",
          "data": {
            "image/png": "[encoded data removed]",
            "text/plain": [
              "<Figure size 432x288 with 1 Axes>"
            ]
          },
          "metadata": {
            "tags": [],
            "needs_background": "light"
          }
        }
      ]
    }
  ]
}