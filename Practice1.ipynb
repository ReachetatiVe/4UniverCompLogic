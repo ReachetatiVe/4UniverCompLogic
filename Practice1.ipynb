{
  "nbformat": 4,
  "nbformat_minor": 0,
  "metadata": {
    "colab": {
      "name": "Untitled0.ipynb",
      "provenance": [],
      "collapsed_sections": [],
      "authorship_tag": "ABX9TyOP/WOh0ChwDvRVuirU3hPu",
      "include_colab_link": true
    },
    "kernelspec": {
      "name": "python3",
      "display_name": "Python 3"
    }
  },
  "cells": [
    {
      "cell_type": "markdown",
      "metadata": {
        "id": "view-in-github",
        "colab_type": "text"
      },
      "source": [
        "<a href=\"https://colab.research.google.com/github/ReachetatiVe/4UniverCompLogic/blob/main/Practice1.ipynb\" target=\"_parent\"><img src=\"https://colab.research.google.com/assets/colab-badge.svg\" alt=\"Open In Colab\"/></a>"
      ]
    },
    {
      "cell_type": "code",
      "metadata": {
        "id": "6ZUulST7ApcC"
      },
      "source": [
        "def check(x):\r\n",
        "  if isinstance(x, int):\r\n",
        "    return x, 1\r\n",
        "    return x.a, x.b\r\n",
        "class Rational:\r\n",
        "  def __init__(self, a, b = 1):\r\n",
        "    self.a = a\r\n",
        "    self.b = b\r\n",
        "    #normalize()\r\n",
        "  def normalize(self):\r\n",
        "    if self.b<0:\r\n",
        "     self.a*=-1\r\n",
        "     self.b*=-1\r\n",
        "  def __str__(self):\r\n",
        "    return str(self.a) + \"/\" + str(self.b)\r\n",
        "  def __add__(self, x):\r\n",
        "    c, d = check(x)\r\n",
        "    return Rational(self.a * d + self.b * c, self.b * d)\r\n",
        "  def __truediv__(self, x):\r\n",
        "    c, d = check(x)\r\n",
        "    return Rational(self.a * d, self.b * c)\r\n",
        "  def __mul__(self, x):\r\n",
        "    c, d = check(x)\r\n",
        "    return Rational(self.a * c, self.b * d)\r\n",
        "  def __sub__(self, x):\r\n",
        "    c, d = check(x)\r\n",
        "    return Rational(self.a * d - self.b * c, self.b * d)\r\n",
        "  def __lt__(self, x): #<\r\n",
        "    c, d = check(self, x)\r\n",
        "    return self.a * d < self.b * c\r\n",
        "  def __le__(self, x): #<=\r\n",
        "    c, d = check(x)\r\n",
        "    return self.a * d <= self.b * c\r\n",
        "  def __gt__(self, x): #>\r\n",
        "    c, d = check(x)\r\n",
        "    return self.a * d > self.b * c\r\n",
        "  def __ge__(self, x): #>=\r\n",
        "    c, d = check(x)\r\n",
        "    return self.a * d >= self.b * c\r\n",
        "  def __eq__(self, x): #==\r\n",
        "    c, d = check(x)\r\n",
        "    return self.a * d == self.b * c\r\n",
        "  def __ne__(self, x):\r\n",
        "    c, d = check(x)\r\n",
        "    return self.a * d != self.b * c\r\n",
        "  def evalf (self):\r\n",
        "    return self.a/self.b\r\n",
        "  def mixed(self):\r\n",
        "    integer = self.a//self.b\r\n",
        "    return integer, Rational(self.a-integer*self.b, self.b)\r\n",
        "  def toLateX (self, mixed=True):\r\n",
        "    return \"\\dfrac{n}{m}\".format(n=self.a, m = self.b)"
      ],
      "execution_count": 18,
      "outputs": []
    },
    {
      "cell_type": "code",
      "metadata": {
        "colab": {
          "base_uri": "https://localhost:8080/"
        },
        "id": "IguBfpl-BF-K",
        "outputId": "f63b319b-e7ae-4fda-b890-ce6831115221"
      },
      "source": [
        "x=Rational(81,19)\r\n",
        "print (x)"
      ],
      "execution_count": 19,
      "outputs": [
        {
          "output_type": "stream",
          "text": [
            "81/19\n"
          ],
          "name": "stdout"
        }
      ]
    }
  ]
}